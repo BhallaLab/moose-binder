{
 "cells": [
  {
   "cell_type": "markdown",
   "metadata": {},
   "source": [
    "# MAPK Feedback Model"
   ]
  },
  {
   "cell_type": "markdown",
   "metadata": {},
   "source": [
    "This example illustrates loading, and running a kinetic model for a much \n",
    "more complex bistable positive feedback system, defined in kkit format.\n",
    "This is based on Bhalla, Ram and Iyengar, Science 2002.\n",
    "\n",
    "The core of this model is a positive feedback loop comprising of\n",
    "the MAPK cascade, PLA2, and PKC. It receives PDGF and Ca2+ as\n",
    "inputs.\n",
    "\n",
    "<img src=\"mapkFB.png\" width=\"35%\">\n",
    "\n",
    "This model is quite a large one and due to some stiffness in its\n",
    "equations, it takes about 30 seconds to execute. Note that this is still\n",
    "200 times faster than the events it models.\n",
    "\n",
    "The simulation illustrated here shows how the model starts out in\n",
    "a state of low activity. It is induced to 'turn on' when a\n",
    "a PDGF stimulus is given for 400 seconds, starting at t = 500s.\n",
    "After it has settled to the new 'on' state, the model is made to\n",
    "'turn off' by setting the system calcium levels to zero. This inhibition starts at \n",
    "t = 2900 and goes on for 500 s. \n",
    "\n",
    "Note that this is a somewhat unphysiological manipulation!\n",
    "Following this the model settles back to the same 'off' state it was in \n",
    "originally.\n"
   ]
  },
  {
   "cell_type": "code",
   "execution_count": 2,
   "metadata": {
    "scrolled": true
   },
   "outputs": [
    {
     "ename": "NameError",
     "evalue": "name '__file__' is not defined",
     "output_type": "error",
     "traceback": [
      "\u001b[0;31m---------------------------------------------------------------------------\u001b[0m",
      "\u001b[0;31mNameError\u001b[0m                                 Traceback (most recent call last)",
      "\u001b[0;32m<ipython-input-2-2db5cab40862>\u001b[0m in \u001b[0;36m<module>\u001b[0;34m()\u001b[0m\n\u001b[1;32m     16\u001b[0m \u001b[0;32mimport\u001b[0m \u001b[0mos\u001b[0m\u001b[0;34m\u001b[0m\u001b[0m\n\u001b[1;32m     17\u001b[0m \u001b[0;34m\u001b[0m\u001b[0m\n\u001b[0;32m---> 18\u001b[0;31m \u001b[0mscriptDir\u001b[0m \u001b[0;34m=\u001b[0m \u001b[0mos\u001b[0m\u001b[0;34m.\u001b[0m\u001b[0mpath\u001b[0m\u001b[0;34m.\u001b[0m\u001b[0mdirname\u001b[0m\u001b[0;34m(\u001b[0m\u001b[0mos\u001b[0m\u001b[0;34m.\u001b[0m\u001b[0mpath\u001b[0m\u001b[0;34m.\u001b[0m\u001b[0mrealpath\u001b[0m\u001b[0;34m(\u001b[0m\u001b[0m__file__\u001b[0m\u001b[0;34m)\u001b[0m\u001b[0;34m)\u001b[0m\u001b[0;34m\u001b[0m\u001b[0m\n\u001b[0m\u001b[1;32m     19\u001b[0m \u001b[0;34m\u001b[0m\u001b[0m\n\u001b[1;32m     20\u001b[0m \u001b[0;32mdef\u001b[0m \u001b[0mmain\u001b[0m\u001b[0;34m(\u001b[0m\u001b[0;34m)\u001b[0m\u001b[0;34m:\u001b[0m\u001b[0;34m\u001b[0m\u001b[0m\n",
      "\u001b[0;31mNameError\u001b[0m: name '__file__' is not defined"
     ]
    }
   ],
   "source": [
    "#########################################################################\n",
    "## This program is part of 'MOOSE', the\n",
    "## Messaging Object Oriented Simulation Environment.\n",
    "##           Copyright (C) 2014 Upinder S. Bhalla. and NCBS\n",
    "## It is made available under the terms of the\n",
    "## GNU Lesser General Public License version 2.1\n",
    "## See the file COPYING.LIB for the full notice.\n",
    "#########################################################################\n",
    "\n",
    "%matplotlib inline\n",
    "\n",
    "import moose\n",
    "import matplotlib.pyplot as plt\n",
    "import matplotlib.image as mpimg\n",
    "import pylab\n",
    "import numpy\n",
    "import sys\n",
    "import os\n",
    "\n",
    "scriptDir = os.path.dirname(os.path.realpath(__file__))\n",
    "\n",
    "def main():\n",
    "    \"\"\"\n",
    "This example illustrates loading, and running a kinetic model\n",
    "for a bistable positive feedback system, defined in kkit format.\n",
    "This is based on Bhalla, Ram and Iyengar, Science 2002.\n",
    "\n",
    "The core of this model is a positive feedback loop comprising of\n",
    "the MAPK cascade, PLA2, and PKC. It receives PDGF and Ca2+ as\n",
    "inputs.\n",
    "\n",
    "This model is quite a large one and due to some stiffness in its\n",
    "equations, it runs somewhat slowly.\n",
    "\n",
    "The simulation illustrated here shows how the model starts out in\n",
    "a state of low activity. It is induced to 'turn on' when a\n",
    "a PDGF stimulus is given for 400 seconds.\n",
    "After it has settled to the new 'on' state, model is made to\n",
    "'turn off'\n",
    "by setting the system calcium levels to zero for a while. This\n",
    "is a somewhat unphysiological manipulation!\n",
    "\n",
    "    \"\"\"\n",
    "\n",
    "    solver = \"gsl\"  # Pick any of gsl, gssa, ee..\n",
    "    #solver = \"gssa\"  # Pick any of gsl, gssa, ee..\n",
    "    mfile = os.path.join( scriptDir, '..', '..', 'genesis' , 'acc35.g' )\n",
    "    runtime = 2000.0\n",
    "    if ( len( sys.argv ) == 2 ):\n",
    "        solver = sys.argv[1]\n",
    "    modelId = moose.loadModel( mfile, 'model', solver )\n",
    "    # Increase volume so that the stochastic solver gssa\n",
    "    # gives an interesting output\n",
    "    compt = moose.element( '/model/kinetics' )\n",
    "    compt.volume = 5e-19\n",
    "\n",
    "    moose.reinit()\n",
    "    moose.start( 500 )\n",
    "    moose.element( '/model/kinetics/PDGFR/PDGF' ).concInit = 0.0001\n",
    "    moose.start( 400 )\n",
    "    moose.element( '/model/kinetics/PDGFR/PDGF' ).concInit = 0.0\n",
    "    moose.start( 2000 )\n",
    "    moose.element( '/model/kinetics/Ca' ).concInit = 0.0\n",
    "    moose.start( 500 )\n",
    "    moose.element( '/model/kinetics/Ca' ).concInit = 0.00008\n",
    "    moose.start( 2000 )\n",
    "\n",
    "    # Display all plots.\n",
    "    img = mpimg.imread( 'mapkFB.png' )\n",
    "    fig = plt.figure( figsize=(12, 10 ) )\n",
    "    png = fig.add_subplot( 211 )\n",
    "    imgplot = plt.imshow( img )\n",
    "    ax = fig.add_subplot( 212 )\n",
    "    x = moose.wildcardFind( '/model/#graphs/conc#/#' )\n",
    "    t = numpy.arange( 0, x[0].vector.size, 1 ) * x[0].dt\n",
    "    ax.plot( t, x[0].vector, 'b-', label=x[0].name )\n",
    "    ax.plot( t, x[1].vector, 'c-', label=x[1].name )\n",
    "    ax.plot( t, x[2].vector, 'r-', label=x[2].name )\n",
    "    ax.plot( t, x[3].vector, 'm-', label=x[3].name )\n",
    "    plt.ylabel( 'Conc (mM)' )\n",
    "    plt.xlabel( 'Time (seconds)' )\n",
    "    pylab.legend()\n",
    "    pylab.show()\n",
    "\n",
    "# Run the 'main' if this script is executed standalone.\n",
    "if __name__ == '__main__':\n",
    "        main()\n"
   ]
  },
  {
   "cell_type": "code",
   "execution_count": null,
   "metadata": {},
   "outputs": [],
   "source": []
  }
 ],
 "metadata": {
  "kernelspec": {
   "display_name": "Python 2",
   "language": "python",
   "name": "python2"
  },
  "language_info": {
   "codemirror_mode": {
    "name": "ipython",
    "version": 2
   },
   "file_extension": ".py",
   "mimetype": "text/x-python",
   "name": "python",
   "nbconvert_exporter": "python",
   "pygments_lexer": "ipython2",
   "version": "2.7.12"
  }
 },
 "nbformat": 4,
 "nbformat_minor": 2
}
