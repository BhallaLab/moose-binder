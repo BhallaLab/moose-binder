{
 "cells": [
  {
   "cell_type": "markdown",
   "metadata": {},
   "source": [
    "# The Introductory Moose model"
   ]
  },
  {
   "cell_type": "markdown",
   "metadata": {},
   "source": [
    "This is the entire model you learned to build in the ['Introduction to python scripting for MOOSE'](Introduction to python coding with Moose.ipynb) page.\n",
    "\n",
    "Having understood what each component of the model does and how it contributes to the model, this is an excellent opportunity to simply mess around. The best way to learn how to code is to test the codes limits. Try and see what you can and cannot do, and what the code allows.\n",
    "\n",
    "Try manipulating the parameters of the pulsegen (delay, width, etc.) and the soma (Cm, Rm, initVm) while keeping everything else the same and see how it affects the ouput. \n",
    "\n",
    "You are always welcome to add new components to the model (which you can find in the inbuilt documentation, and in the ``Doxygen`` page on the MOOSE website)\n",
    "\n",
    "Dont be afraid to mess things up!! if you made a mistake and dont know what happened, you can always refresh the page and return to the original code. "
   ]
  },
  {
   "cell_type": "code",
   "execution_count": 3,
   "metadata": {},
   "outputs": [
    {
     "name": "stderr",
     "output_type": "stream",
     "text": [
      "/usr/local/lib/python2.7/dist-packages/ipykernel_launcher.py:4: DeprecationWarning: Accessing existing paths using object constrcutors has been deprecated. Use  moose.element to access existing object. In future  this will be an error.\n",
      "\n",
      "  after removing the cwd from sys.path.\n",
      "/usr/local/lib/python2.7/dist-packages/ipykernel_launcher.py:6: DeprecationWarning: Accessing existing paths using object constrcutors has been deprecated. Use  moose.element to access existing object. In future  this will be an error.\n",
      "\n",
      "  \n",
      "/usr/local/lib/python2.7/dist-packages/ipykernel_launcher.py:8: DeprecationWarning: Accessing existing paths using object constrcutors has been deprecated. Use  moose.element to access existing object. In future  this will be an error.\n",
      "\n",
      "  \n",
      "/usr/local/lib/python2.7/dist-packages/ipykernel_launcher.py:12: DeprecationWarning: Accessing existing paths using object constrcutors has been deprecated. Use  moose.element to access existing object. In future  this will be an error.\n",
      "\n",
      "  if sys.path[0] == '':\n",
      "/usr/local/lib/python2.7/dist-packages/ipykernel_launcher.py:14: DeprecationWarning: Accessing existing paths using object constrcutors has been deprecated. Use  moose.element to access existing object. In future  this will be an error.\n",
      "\n",
      "  \n"
     ]
    },
    {
     "data": {
      "image/png": "[encoded data removed]",
      "text/plain": [
       "<matplotlib.figure.Figure at 0x7f1d0e717910>"
      ]
     },
     "metadata": {},
     "output_type": "display_data"
    }
   ],
   "source": [
    "import moose\n",
    "\n",
    "#create neutral \"folder\" to contain the model\n",
    "model = moose.Neutral('/model')\n",
    "#create 'cell-body' compartment\n",
    "soma = moose.Compartment('/model/soma')\n",
    "#create pulse-generator\n",
    "pulse = moose.PulseGen('/model/pulse')\n",
    "\n",
    "\n",
    "#create data \"folder\" to contain data\n",
    "data = moose.Neutral('/data')\n",
    "#create table\n",
    "vmtab = moose.Table('/data/soma_Vm')\n",
    "#allows you to see figures within notebook (Not required outside this page)\n",
    "%matplotlib inline \n",
    "\n",
    "#set parameters\n",
    "soma.Cm = 1e-9 #Membrane capacitance (Farads)\n",
    "soma.Rm = 1e7 #Membrane leak resistance (Ohms)\n",
    "soma.initVm = -0.07 #Initial membrane potential (Volts)\n",
    "\n",
    "#set parameters for pulse generation\n",
    "pulse.delay[0] = 50e-3\n",
    "pulse.width[0] = 100e-3\n",
    "pulse.level[0] = 1e-9\n",
    "pulse.delay[1] = 1e9\n",
    "\n",
    "#connect different parts of model to each other:\n",
    "#connect pulse generator to \"cell body\" of neuron\n",
    "m = moose.connect(pulse, 'output', soma, 'injectMsg')\n",
    "#connect table to \"cell body's\" output\n",
    "moose.connect(vmtab, 'requestOut', soma, 'getVm')\n",
    "\n",
    "\n",
    "#reinitialize the model (start from beginning)\n",
    "moose.reinit()\n",
    "#run model for 300 ms\n",
    "moose.start(300e-3)\n",
    "\n",
    "#import pylab so we can plot the graphs\n",
    "import pylab\n",
    "#creates time values to plot against (linear time steps from 0 to 300 ms)\n",
    "t = pylab.linspace(0, 300e-3, len(vmtab.vector))\n",
    "#plots data from model against time axis\n",
    "pylab.plot(t, vmtab.vector)\n",
    "#shows previously created plot\n",
    "pylab.show()"
   ]
  },
  {
   "cell_type": "code",
   "execution_count": null,
   "metadata": {},
   "outputs": [],
   "source": []
  }
 ],
 "metadata": {
  "kernelspec": {
   "display_name": "Python 2",
   "language": "python",
   "name": "python2"
  },
  "language_info": {
   "codemirror_mode": {
    "name": "ipython",
    "version": 2
   },
   "file_extension": ".py",
   "mimetype": "text/x-python",
   "name": "python",
   "nbconvert_exporter": "python",
   "pygments_lexer": "ipython2",
   "version": "2.7.12"
  }
 },
 "nbformat": 4,
 "nbformat_minor": 2
}
